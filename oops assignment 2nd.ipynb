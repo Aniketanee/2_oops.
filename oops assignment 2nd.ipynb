{
 "cells": [
  {
   "cell_type": "markdown",
   "id": "b442c245-e8f9-48d3-9e85-1c1297d1df64",
   "metadata": {},
   "source": [
    "Solution -1"
   ]
  },
  {
   "cell_type": "markdown",
   "id": "b1299145-a6c8-49f8-b50e-5c63d878c120",
   "metadata": {},
   "source": [
    "Classes are user-defined data types that act as the blueprint for individual objects, attributes and methods. Objects are instances of a class created with specifically defined data ."
   ]
  },
  {
   "cell_type": "code",
   "execution_count": 46,
   "id": "d6211d50-b723-410c-a9c3-0ccd8dd81153",
   "metadata": {},
   "outputs": [
    {
     "name": "stdout",
     "output_type": "stream",
     "text": [
      "The 2023 Kawasaki Ninja is starting.\n",
      "The bike is now traveling at 70 mph.\n",
      "The bike slowed down to 50 mph.\n",
      "Year: 2023, Make: Kawasaki, Model: Ninja, Speed: 50 mph\n"
     ]
    }
   ],
   "source": [
    "class bike:\n",
    "    def __init__(self, make, model, year):\n",
    "        self.make = make\n",
    "        self.model = model\n",
    "        self.year = year\n",
    "        self.speed = 0\n",
    "\n",
    "    def start(self):\n",
    "        print(f\"The {self.year} {self.make} {self.model} is starting.\")\n",
    "\n",
    "    def accelerate(self, speed_up):\n",
    "        self.speed += speed_up\n",
    "        print(f\"The bike is now traveling at {self.speed} mph.\")\n",
    "\n",
    "    def brake(self, speed_down):\n",
    "        self.speed -= speed_down\n",
    "        if self.speed < 0:\n",
    "            self.speed = 0\n",
    "        print(f\"The bike slowed down to {self.speed} mph.\")\n",
    "\n",
    "    def display_info(self):\n",
    "        print(f\"Year: {self.year}, Make: {self.make}, Model: {self.model}, Speed: {self.speed} mph\")\n",
    "\n",
    "bike1 = bike(\"Kawasaki\", \"Ninja\", 2023)\n",
    "\n",
    "bike1.start()\n",
    "bike1.accelerate(70)\n",
    "bike1.brake(20)\n",
    "bike1.display_info()\n"
   ]
  },
  {
   "cell_type": "markdown",
   "id": "3c346733-7db8-41da-b671-cb805e7bdc40",
   "metadata": {},
   "source": [
    "Solution - 2"
   ]
  },
  {
   "cell_type": "markdown",
   "id": "71e7ba70-432e-40f7-b54b-e5e1a3b97e14",
   "metadata": {},
   "source": [
    "Encapsulation , Abstracthe , Inheritance , Polymorphism"
   ]
  },
  {
   "cell_type": "markdown",
   "id": "c7e9e2a6-e6db-491e-acd1-54ccaf484822",
   "metadata": {},
   "source": [
    "Solution - 3"
   ]
  },
  {
   "cell_type": "markdown",
   "id": "b5478995-2de6-48a6-9fe9-b8970e5dd2b9",
   "metadata": {},
   "source": [
    "The \"__init__()\"\" function, also known as the constructor, is a special method in Python classes. It is automatically called when an object of the class is created. The primary purpose of the \"__init__()\" function is to initialize the object's attributes and set their initial values. This method allows you to perform any necessary setup or configuration that should occur when an object is instantiated"
   ]
  },
  {
   "cell_type": "code",
   "execution_count": 82,
   "id": "1bb23af5-b4e3-4601-8f5e-5d9f521bf6be",
   "metadata": {},
   "outputs": [
    {
     "name": "stdout",
     "output_type": "stream",
     "text": [
      "Hii, my name is Aniket and I am 24 years old.\n"
     ]
    }
   ],
   "source": [
    "class Person:\n",
    "    def __init__(self, name, age):\n",
    "        self.name = name\n",
    "        self.age = age\n",
    "\n",
    "    def say_hello(self):\n",
    "        print(f\"Hii, my name is {self.name} and I am {self.age} years old.\")\n",
    "\n",
    "\n",
    "person1 = Person(\"Aniket\", 24)\n",
    "\n",
    "\n",
    "person1.say_hello()"
   ]
  },
  {
   "cell_type": "markdown",
   "id": "633a6c5a-8136-4a7f-a9e1-14df44365b60",
   "metadata": {},
   "source": [
    "Solution - 4"
   ]
  },
  {
   "cell_type": "markdown",
   "id": "a0d3efca-8841-4bae-acba-90559a7a0cc9",
   "metadata": {},
   "source": [
    "\"Self\" is a conventional name given to the first parameter of a method in a class. It refers to the instance of the class itself, allowing the class to access and modify its own attributes and methods.Example is below."
   ]
  },
  {
   "cell_type": "code",
   "execution_count": 20,
   "id": "99a24aed-d91e-4618-b9ec-f042336fe5aa",
   "metadata": {},
   "outputs": [],
   "source": [
    "class myclass:\n",
    "    def __init__ (self , value):\n",
    "        self.value = value\n",
    "    \n",
    "    def print_value(self):\n",
    "        print(self.value)\n",
    "        \n",
    "obj1 = myclass(10)"
   ]
  },
  {
   "cell_type": "code",
   "execution_count": 21,
   "id": "6bdd01ab-4fc6-4beb-b2ce-068a3a4c63a7",
   "metadata": {},
   "outputs": [
    {
     "name": "stdout",
     "output_type": "stream",
     "text": [
      "10\n"
     ]
    }
   ],
   "source": [
    "obj1.print_value()"
   ]
  },
  {
   "cell_type": "markdown",
   "id": "16b6b6ee-a734-451d-b238-118d033c7bd4",
   "metadata": {},
   "source": [
    "Solution - 5"
   ]
  },
  {
   "cell_type": "markdown",
   "id": "0f2b7a10-5d69-4a25-950d-4bf531116d76",
   "metadata": {},
   "source": [
    "Inheritance is a fundamental concept in object-oriented programming  that allows a class to inherit properties and behaviors from another class. The subclass can then extend, override, or specialize the functionalities of the base class while inheriting its common attributes and methods."
   ]
  },
  {
   "cell_type": "code",
   "execution_count": 22,
   "id": "62e504de-ac57-44b8-beef-a3ed03315909",
   "metadata": {},
   "outputs": [
    {
     "name": "stdout",
     "output_type": "stream",
     "text": [
      "This function is in school.\n",
      "This function is in student 1. \n"
     ]
    }
   ],
   "source": [
    "class School:\n",
    "\tdef func1(self):\n",
    "\t\tprint(\"This function is in school.\")\n",
    "\n",
    "\n",
    "class Student1(School):\n",
    "\tdef func2(self):\n",
    "\t\tprint(\"This function is in student 1. \")\n",
    "\n",
    "\n",
    "class Student2(School):\n",
    "\tdef func3(self):\n",
    "\t\tprint(\"This function is in student 2.\")\n",
    "\n",
    "\n",
    "class Student3(Student1, School):\n",
    "\tdef func4(self):\n",
    "\t\tprint(\"This function is in student 3.\")\n",
    "\n",
    "\n",
    "\n",
    "object = Student3()\n",
    "object.func1()\n",
    "object.func2()\n"
   ]
  },
  {
   "cell_type": "code",
   "execution_count": null,
   "id": "be9a99be-dfbe-4660-b500-a28604c6e830",
   "metadata": {},
   "outputs": [],
   "source": []
  }
 ],
 "metadata": {
  "kernelspec": {
   "display_name": "Python 3 (ipykernel)",
   "language": "python",
   "name": "python3"
  },
  "language_info": {
   "codemirror_mode": {
    "name": "ipython",
    "version": 3
   },
   "file_extension": ".py",
   "mimetype": "text/x-python",
   "name": "python",
   "nbconvert_exporter": "python",
   "pygments_lexer": "ipython3",
   "version": "3.10.8"
  }
 },
 "nbformat": 4,
 "nbformat_minor": 5
}
